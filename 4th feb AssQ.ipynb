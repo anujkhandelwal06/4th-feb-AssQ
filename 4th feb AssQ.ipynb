{
 "cells": [
  {
   "cell_type": "code",
   "execution_count": 1,
   "id": "fb85e3f8-adc2-4615-95cc-f3d11999a1bd",
   "metadata": {},
   "outputs": [],
   "source": [
    "#Create a python program to sort the given list of tuples based on integer value using a lambda function"
   ]
  },
  {
   "cell_type": "code",
   "execution_count": 2,
   "id": "9095cf7a-d8c7-448d-9f70-13b1eb8c71b5",
   "metadata": {},
   "outputs": [],
   "source": [
    "l1=[('Sachin Tendulkar', 34357), ('Ricky Ponting', 27483), ('Jack Kallis', 25534), ('Virat Kohli', 24936)]"
   ]
  },
  {
   "cell_type": "code",
   "execution_count": 3,
   "id": "412e9613-3d60-41cc-acac-9b180906cce6",
   "metadata": {},
   "outputs": [
    {
     "name": "stdout",
     "output_type": "stream",
     "text": [
      "[('Virat Kohli', 24936), ('Jack Kallis', 25534), ('Ricky Ponting', 27483), ('Sachin Tendulkar', 34357)]\n"
     ]
    }
   ],
   "source": [
    "sorted_lst=sorted(l1,key=lambda x:x[1])\n",
    "print(sorted_lst)"
   ]
  },
  {
   "cell_type": "code",
   "execution_count": 2,
   "id": "0e765edf-0065-410e-8797-eba5ac301e38",
   "metadata": {},
   "outputs": [],
   "source": [
    "#Write a Python Program to find the squares of all the numbers in the given list of integers using lambda and map functions."
   ]
  },
  {
   "cell_type": "code",
   "execution_count": 3,
   "id": "8f3ef891-d4c4-4dba-bc1e-1ab7a2ce101e",
   "metadata": {},
   "outputs": [],
   "source": [
    "l2=[1, 2, 3, 4, 5, 6, 7, 8, 9, 10]"
   ]
  },
  {
   "cell_type": "code",
   "execution_count": 7,
   "id": "fc20723b-8914-4739-9923-3f0f5481f638",
   "metadata": {},
   "outputs": [],
   "source": [
    "def test(l2):\n",
    "    l3=[]\n",
    "    for i in l2:\n",
    "        l3.append (i**2)\n",
    "        return l3\n",
    " "
   ]
  },
  {
   "cell_type": "code",
   "execution_count": 8,
   "id": "8a600dc2-e881-4bee-953d-f3abcc5532a5",
   "metadata": {},
   "outputs": [
    {
     "data": {
      "text/plain": [
       "[1]"
      ]
     },
     "execution_count": 8,
     "metadata": {},
     "output_type": "execute_result"
    }
   ],
   "source": [
    "test(l2)"
   ]
  },
  {
   "cell_type": "code",
   "execution_count": 9,
   "id": "5b006643-6153-4aa8-a223-6243cb777a7a",
   "metadata": {},
   "outputs": [],
   "source": [
    "def sq(x):\n",
    "    return x*2"
   ]
  },
  {
   "cell_type": "code",
   "execution_count": 10,
   "id": "a11e9509-73f1-4940-97e6-525508d3242c",
   "metadata": {},
   "outputs": [
    {
     "data": {
      "text/plain": [
       "[2, 4, 6, 8, 10, 12, 14, 16, 18, 20]"
      ]
     },
     "execution_count": 10,
     "metadata": {},
     "output_type": "execute_result"
    }
   ],
   "source": [
    "list(map(sq,l2))"
   ]
  },
  {
   "cell_type": "code",
   "execution_count": 11,
   "id": "c170fb87-19eb-42b1-b319-b78c8ea18da3",
   "metadata": {},
   "outputs": [
    {
     "data": {
      "text/plain": [
       "[2, 4, 6, 8, 10, 12, 14, 16, 18, 20]"
      ]
     },
     "execution_count": 11,
     "metadata": {},
     "output_type": "execute_result"
    }
   ],
   "source": [
    "list(map(lambda x: x*2 ,l2))"
   ]
  },
  {
   "cell_type": "code",
   "execution_count": 12,
   "id": "3e80c128-21ad-4c66-9468-28725d973d28",
   "metadata": {},
   "outputs": [],
   "source": [
    "#Write a python program to convert the given list of integers into a tuple of strings. Use map and lambda functions"
   ]
  },
  {
   "cell_type": "code",
   "execution_count": 11,
   "id": "79cb9b89-f88d-4128-9b77-4740a763e18d",
   "metadata": {},
   "outputs": [
    {
     "name": "stdout",
     "output_type": "stream",
     "text": [
      "('1', '2', '3', '4', '5', '6', '7', '8', '9', '10')\n"
     ]
    }
   ],
   "source": [
    "l= [1, 2, 3, 4, 5, 6, 7, 8, 9, 10]\n",
    "tuple(map(lambda x: str(x), l))\n",
    "print(tuple_of_strings)"
   ]
  },
  {
   "cell_type": "code",
   "execution_count": 8,
   "id": "284254d5-9b92-418d-ad85-2c3377e8a5e1",
   "metadata": {},
   "outputs": [],
   "source": [
    "l= ('1, 2, 3, 4, 5, 6, 7, 8, 9, 10')\n"
   ]
  },
  {
   "cell_type": "code",
   "execution_count": 13,
   "id": "275b898a-b5c5-4f4c-8783-893dda80c016",
   "metadata": {},
   "outputs": [
    {
     "name": "stdout",
     "output_type": "stream",
     "text": [
      "('1', '2', '3', '4', '5', '6', '7', '8', '9', '10')\n"
     ]
    }
   ],
   "source": [
    "tuple_of_strings=tuple(map(lambda x: str(x) , l))\n",
    "print(tuple_of_strings)"
   ]
  },
  {
   "cell_type": "code",
   "execution_count": 14,
   "id": "0a8e2edc-83fa-4fc2-9be3-e0ab5e0b052b",
   "metadata": {},
   "outputs": [],
   "source": [
    "#Write a python program using reduce function to compute the product of a list containing numbers from 1 to 25"
   ]
  },
  {
   "cell_type": "code",
   "execution_count": 16,
   "id": "232eae97-3fae-488e-9589-cd3bdc538933",
   "metadata": {},
   "outputs": [],
   "source": [
    "from functools import reduce"
   ]
  },
  {
   "cell_type": "code",
   "execution_count": 17,
   "id": "5f492da2-b2ec-4cec-b050-251f710c263f",
   "metadata": {},
   "outputs": [
    {
     "name": "stdout",
     "output_type": "stream",
     "text": [
      "15511210043330985984000000\n"
     ]
    }
   ],
   "source": [
    "num=list(range(1,26))\n",
    "pro = reduce(lambda x,y:x*y,num)\n",
    "print(pro)"
   ]
  },
  {
   "cell_type": "code",
   "execution_count": 19,
   "id": "35494d41-1ee4-4930-9059-cea9293c0c5d",
   "metadata": {},
   "outputs": [],
   "source": [
    "#Write a python program to filter the numbers in a given list that are divisible by 2 and 3 using the filter function"
   ]
  },
  {
   "cell_type": "code",
   "execution_count": 21,
   "id": "80666fff-1445-41ca-83be-fb7a1f6234b6",
   "metadata": {},
   "outputs": [
    {
     "data": {
      "text/plain": [
       "[6, 60, 90, 120]"
      ]
     },
     "execution_count": 21,
     "metadata": {},
     "output_type": "execute_result"
    }
   ],
   "source": [
    "l=[2, 3, 6, 9, 27, 60, 90, 120, 55, 46]\n",
    "list(filter(lambda x: (x%2==0) and (x%3==0),l))"
   ]
  },
  {
   "cell_type": "code",
   "execution_count": 23,
   "id": "c8c91bbe-b270-4385-bc9f-061907503a07",
   "metadata": {},
   "outputs": [],
   "source": [
    "#Write a python program to find palindromes in the given list of strings using lambda and filter function."
   ]
  },
  {
   "cell_type": "code",
   "execution_count": 25,
   "id": "533eb9f5-85f9-4d0d-b725-fcc802d20ebb",
   "metadata": {},
   "outputs": [
    {
     "data": {
      "text/plain": [
       "['php', 'aba', 'radar', 'level']"
      ]
     },
     "execution_count": 25,
     "metadata": {},
     "output_type": "execute_result"
    }
   ],
   "source": [
    "l=['python', 'php', 'aba', 'radar', 'level']\n",
    "\n",
    "list(filter(lambda x: x== x[::-1],l))"
   ]
  },
  {
   "cell_type": "code",
   "execution_count": null,
   "id": "ffbeab76-7bda-4017-b61b-fd91f2ab1654",
   "metadata": {},
   "outputs": [],
   "source": []
  },
  {
   "cell_type": "code",
   "execution_count": null,
   "id": "f8638099-7366-4549-85e6-34935e24a73d",
   "metadata": {},
   "outputs": [],
   "source": []
  }
 ],
 "metadata": {
  "kernelspec": {
   "display_name": "Python 3 (ipykernel)",
   "language": "python",
   "name": "python3"
  },
  "language_info": {
   "codemirror_mode": {
    "name": "ipython",
    "version": 3
   },
   "file_extension": ".py",
   "mimetype": "text/x-python",
   "name": "python",
   "nbconvert_exporter": "python",
   "pygments_lexer": "ipython3",
   "version": "3.10.8"
  }
 },
 "nbformat": 4,
 "nbformat_minor": 5
}
